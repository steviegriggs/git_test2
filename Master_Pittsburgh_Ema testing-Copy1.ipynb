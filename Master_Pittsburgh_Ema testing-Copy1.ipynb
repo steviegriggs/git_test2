{
 "cells": [
  {
   "cell_type": "code",
   "execution_count": 78,
   "metadata": {},
   "outputs": [
    {
     "name": "stdout",
     "output_type": "stream",
     "text": [
      "Populating the interactive namespace from numpy and matplotlib\n"
     ]
    }
   ],
   "source": [
    "# Import Dependencies\n",
    "%pylab inline\n",
    "import matplotlib.pyplot as plt\n",
    "import pandas as pd\n",
    "import numpy as np\n",
    "import requests\n",
    "import time\n",
    "from datetime import date\n",
    "import calendar"
   ]
  },
  {
   "cell_type": "code",
   "execution_count": 79,
   "metadata": {},
   "outputs": [
    {
     "data": {
      "text/html": [
       "<div>\n",
       "<style scoped>\n",
       "    .dataframe tbody tr th:only-of-type {\n",
       "        vertical-align: middle;\n",
       "    }\n",
       "\n",
       "    .dataframe tbody tr th {\n",
       "        vertical-align: top;\n",
       "    }\n",
       "\n",
       "    .dataframe thead th {\n",
       "        text-align: right;\n",
       "    }\n",
       "</style>\n",
       "<table border=\"1\" class=\"dataframe\">\n",
       "  <thead>\n",
       "    <tr style=\"text-align: right;\">\n",
       "      <th></th>\n",
       "      <th>Unnamed: 0</th>\n",
       "      <th>Age</th>\n",
       "      <th>Gender</th>\n",
       "      <th>Race</th>\n",
       "      <th>Offenses Severity</th>\n",
       "      <th>Arrest Day of Week</th>\n",
       "      <th>Arrest Date</th>\n",
       "      <th>Arrest Month</th>\n",
       "      <th>Arrest Year</th>\n",
       "      <th>Temperature</th>\n",
       "      <th>Weather Condition</th>\n",
       "      <th>Incident Location</th>\n",
       "      <th>Incident Latitude</th>\n",
       "      <th>Incident Longitude</th>\n",
       "      <th>Incident Neighborhood</th>\n",
       "      <th>Incident Zone</th>\n",
       "    </tr>\n",
       "  </thead>\n",
       "  <tbody>\n",
       "    <tr>\n",
       "      <th>0</th>\n",
       "      <td>0</td>\n",
       "      <td>24.0</td>\n",
       "      <td>F</td>\n",
       "      <td>B</td>\n",
       "      <td>M</td>\n",
       "      <td>Friday</td>\n",
       "      <td>12</td>\n",
       "      <td>February</td>\n",
       "      <td>2016</td>\n",
       "      <td>20.53</td>\n",
       "      <td>Mostly Cloudy</td>\n",
       "      <td>1100 Block McKinney LANE Pittsburgh, PA 15205</td>\n",
       "      <td>40.423529</td>\n",
       "      <td>-80.035034</td>\n",
       "      <td>Ridgemont</td>\n",
       "      <td>6</td>\n",
       "    </tr>\n",
       "    <tr>\n",
       "      <th>1</th>\n",
       "      <td>1</td>\n",
       "      <td>31.0</td>\n",
       "      <td>M</td>\n",
       "      <td>W</td>\n",
       "      <td>M</td>\n",
       "      <td>Wednesday</td>\n",
       "      <td>17</td>\n",
       "      <td>February</td>\n",
       "      <td>2016</td>\n",
       "      <td>32.76</td>\n",
       "      <td>Overcast</td>\n",
       "      <td>800 Block Concord ST Pittsburgh, PA 15212</td>\n",
       "      <td>40.457564</td>\n",
       "      <td>-79.997924</td>\n",
       "      <td>East Allegheny</td>\n",
       "      <td>1</td>\n",
       "    </tr>\n",
       "  </tbody>\n",
       "</table>\n",
       "</div>"
      ],
      "text/plain": [
       "   Unnamed: 0   Age Gender Race Offenses Severity Arrest Day of Week  \\\n",
       "0           0  24.0      F    B                 M             Friday   \n",
       "1           1  31.0      M    W                 M          Wednesday   \n",
       "\n",
       "   Arrest Date Arrest Month  Arrest Year  Temperature Weather Condition  \\\n",
       "0           12     February         2016        20.53     Mostly Cloudy   \n",
       "1           17     February         2016        32.76          Overcast   \n",
       "\n",
       "                               Incident Location  Incident Latitude  \\\n",
       "0  1100 Block McKinney LANE Pittsburgh, PA 15205          40.423529   \n",
       "1      800 Block Concord ST Pittsburgh, PA 15212          40.457564   \n",
       "\n",
       "   Incident Longitude Incident Neighborhood Incident Zone  \n",
       "0          -80.035034             Ridgemont             6  \n",
       "1          -79.997924        East Allegheny             1  "
      ]
     },
     "execution_count": 79,
     "metadata": {},
     "output_type": "execute_result"
    }
   ],
   "source": [
    "# Import & Read CSV generated from DarkSky Weather API\n",
    "Pitts = \"Ste_Crime_severity_Output.csv\"\n",
    "Ste_Crime_severity_Output_df = pd.read_csv(Pitts)\n",
    "Ste_Crime_severity_Output_df.head(2)"
   ]
  },
  {
   "cell_type": "code",
   "execution_count": 80,
   "metadata": {},
   "outputs": [
    {
     "data": {
      "text/html": [
       "<div>\n",
       "<style scoped>\n",
       "    .dataframe tbody tr th:only-of-type {\n",
       "        vertical-align: middle;\n",
       "    }\n",
       "\n",
       "    .dataframe tbody tr th {\n",
       "        vertical-align: top;\n",
       "    }\n",
       "\n",
       "    .dataframe thead th {\n",
       "        text-align: right;\n",
       "    }\n",
       "</style>\n",
       "<table border=\"1\" class=\"dataframe\">\n",
       "  <thead>\n",
       "    <tr style=\"text-align: right;\">\n",
       "      <th></th>\n",
       "      <th>Age</th>\n",
       "      <th>Gender</th>\n",
       "      <th>Race</th>\n",
       "      <th>Offenses Severity</th>\n",
       "      <th>Arrest Day of Week</th>\n",
       "      <th>Arrest Date</th>\n",
       "      <th>Arrest Month</th>\n",
       "      <th>Arrest Year</th>\n",
       "      <th>Temperature</th>\n",
       "      <th>Weather Condition</th>\n",
       "      <th>Incident Location</th>\n",
       "      <th>Incident Latitude</th>\n",
       "      <th>Incident Longitude</th>\n",
       "      <th>Incident Neighborhood</th>\n",
       "      <th>Incident Zone</th>\n",
       "    </tr>\n",
       "  </thead>\n",
       "  <tbody>\n",
       "    <tr>\n",
       "      <th>0</th>\n",
       "      <td>24.0</td>\n",
       "      <td>F</td>\n",
       "      <td>B</td>\n",
       "      <td>M</td>\n",
       "      <td>Friday</td>\n",
       "      <td>12</td>\n",
       "      <td>February</td>\n",
       "      <td>2016</td>\n",
       "      <td>20.53</td>\n",
       "      <td>Mostly Cloudy</td>\n",
       "      <td>1100 Block McKinney LANE Pittsburgh, PA 15205</td>\n",
       "      <td>40.423529</td>\n",
       "      <td>-80.035034</td>\n",
       "      <td>Ridgemont</td>\n",
       "      <td>6</td>\n",
       "    </tr>\n",
       "    <tr>\n",
       "      <th>1</th>\n",
       "      <td>31.0</td>\n",
       "      <td>M</td>\n",
       "      <td>W</td>\n",
       "      <td>M</td>\n",
       "      <td>Wednesday</td>\n",
       "      <td>17</td>\n",
       "      <td>February</td>\n",
       "      <td>2016</td>\n",
       "      <td>32.76</td>\n",
       "      <td>Overcast</td>\n",
       "      <td>800 Block Concord ST Pittsburgh, PA 15212</td>\n",
       "      <td>40.457564</td>\n",
       "      <td>-79.997924</td>\n",
       "      <td>East Allegheny</td>\n",
       "      <td>1</td>\n",
       "    </tr>\n",
       "  </tbody>\n",
       "</table>\n",
       "</div>"
      ],
      "text/plain": [
       "    Age Gender Race Offenses Severity Arrest Day of Week  Arrest Date  \\\n",
       "0  24.0      F    B                 M             Friday           12   \n",
       "1  31.0      M    W                 M          Wednesday           17   \n",
       "\n",
       "  Arrest Month  Arrest Year  Temperature Weather Condition  \\\n",
       "0     February         2016        20.53     Mostly Cloudy   \n",
       "1     February         2016        32.76          Overcast   \n",
       "\n",
       "                               Incident Location  Incident Latitude  \\\n",
       "0  1100 Block McKinney LANE Pittsburgh, PA 15205          40.423529   \n",
       "1      800 Block Concord ST Pittsburgh, PA 15212          40.457564   \n",
       "\n",
       "   Incident Longitude Incident Neighborhood Incident Zone  \n",
       "0          -80.035034             Ridgemont             6  \n",
       "1          -79.997924        East Allegheny             1  "
      ]
     },
     "execution_count": 80,
     "metadata": {},
     "output_type": "execute_result"
    }
   ],
   "source": [
    "del Ste_Crime_severity_Output_df['Unnamed: 0']\n",
    "Ste_Crime_severity_Output_df.head(2)"
   ]
  },
  {
   "cell_type": "code",
   "execution_count": null,
   "metadata": {},
   "outputs": [],
   "source": []
  },
  {
   "cell_type": "code",
   "execution_count": 81,
   "metadata": {},
   "outputs": [],
   "source": [
    "#Ste_Crime_severity_Output_df.describe()"
   ]
  },
  {
   "cell_type": "code",
   "execution_count": 82,
   "metadata": {},
   "outputs": [],
   "source": [
    "new_crime_df = Ste_Crime_severity_Output_df[(Ste_Crime_severity_Output_df.Age > 0) & \n",
    "                                            (Ste_Crime_severity_Output_df.Age <= 100)]"
   ]
  },
  {
   "cell_type": "code",
   "execution_count": 83,
   "metadata": {},
   "outputs": [],
   "source": [
    "#new_crime_df.describe()"
   ]
  },
  {
   "cell_type": "code",
   "execution_count": null,
   "metadata": {},
   "outputs": [],
   "source": []
  },
  {
   "cell_type": "code",
   "execution_count": 84,
   "metadata": {},
   "outputs": [],
   "source": [
    "# Weather vs Crime Frequency / Crime Type\n",
    "    # Temperature (Hot vs Cold)\n",
    "        # X-Axis: Temperature (Ex. Very Cold, Cold, Moderate, Hot, Very Hot, etc.)\n",
    "        # Y-Axis: Amount of Crime (measured by incident number)\n",
    "    # Weather Condition: \n",
    "        # X-Axis: Type of weather (ie rain, sun, snow, etc.)\n",
    "        # Y-Axis: Amount of Crime (measured by incident number)\n"
   ]
  },
  {
   "cell_type": "code",
   "execution_count": 85,
   "metadata": {},
   "outputs": [],
   "source": [
    "# Crime Frequency vs Incident Location (Heatmap) (Liam)\n",
    "    # Crime Frequency vs Police Zone (Heatmap) (Liam)\n"
   ]
  },
  {
   "cell_type": "code",
   "execution_count": 86,
   "metadata": {},
   "outputs": [],
   "source": [
    "# Crime Severity vs Incident Location (Heatmap) (Liam)\n"
   ]
  },
  {
   "cell_type": "code",
   "execution_count": 87,
   "metadata": {},
   "outputs": [],
   "source": [
    "# Age, Gender and Race vs Crime (Pie Charts?)\n",
    "    # Crime Frequency\n",
    "        # Grouped by incident location & date\n",
    "    # Crime Type\n",
    "    # Crime Severity (Felonies, Misdemeanors or Violations/Infractions)"
   ]
  },
  {
   "cell_type": "code",
   "execution_count": 88,
   "metadata": {},
   "outputs": [
    {
     "data": {
      "image/png": "[encoded data removed]",
      "text/plain": [
       "<Figure size 432x288 with 1 Axes>"
      ]
     },
     "metadata": {},
     "output_type": "display_data"
    }
   ],
   "source": [
    "gender_count = new_crime_df[\"Gender\"].value_counts()\n",
    "total_gender_count = new_crime_df[\"Gender\"].count()\n",
    "gender_percentage = (gender_count/total_gender_count) *100\n",
    "\n",
    "Gender = [\"Male\", \"Female\", \"Unknown\"]\n",
    "Percent = [gender_percentage]\n",
    "colors = [\"LightBlue\", \"Pink\", \"Black\"]\n",
    "explode = (0.1, 0.1, 0.1)\n",
    "\n",
    "\n",
    "plt.pie(gender_percentage, explode=explode, labels=Gender, colors=colors, autopct=\"%1.1f%%\", shadow=True, startangle= 240)\n",
    "plt.axis(\"equal\")\n",
    "plt.title(\"Pittsburgh Crime by Gender\")\n",
    "\n",
    "plt.show()"
   ]
  },
  {
   "cell_type": "code",
   "execution_count": 89,
   "metadata": {},
   "outputs": [
    {
     "data": {
      "text/plain": [
       "array(['M', 'F', 'Murder of 1st Degree'], dtype=object)"
      ]
     },
     "execution_count": 89,
     "metadata": {},
     "output_type": "execute_result"
    }
   ],
   "source": [
    "new_crime_df[\"Offenses Severity\"].unique()"
   ]
  },
  {
   "cell_type": "code",
   "execution_count": 91,
   "metadata": {},
   "outputs": [
    {
     "data": {
      "text/plain": [
       "M                       13099\n",
       "F                        5376\n",
       "Murder of 1st Degree        2\n",
       "Name: Offenses Severity, dtype: int64"
      ]
     },
     "execution_count": 91,
     "metadata": {},
     "output_type": "execute_result"
    }
   ],
   "source": [
    "crime_type_count = new_crime_df[\"Offenses Severity\"].value_counts()\n",
    "crime_type_count"
   ]
  },
  {
   "cell_type": "code",
   "execution_count": 92,
   "metadata": {},
   "outputs": [
    {
     "data": {
      "text/plain": [
       "18477"
      ]
     },
     "execution_count": 92,
     "metadata": {},
     "output_type": "execute_result"
    }
   ],
   "source": [
    "total_crime_count = new_crime_df[\"Offenses Severity\"].count()\n",
    "total_crime_count"
   ]
  },
  {
   "cell_type": "code",
   "execution_count": 93,
   "metadata": {},
   "outputs": [
    {
     "data": {
      "text/plain": [
       "M                       70.893543\n",
       "F                       29.095632\n",
       "Murder of 1st Degree     0.010824\n",
       "Name: Offenses Severity, dtype: float64"
      ]
     },
     "execution_count": 93,
     "metadata": {},
     "output_type": "execute_result"
    }
   ],
   "source": [
    "crime_percentage = (crime_type_count/total_crime_count) *100\n",
    "crime_percentage"
   ]
  },
  {
   "cell_type": "code",
   "execution_count": 155,
   "metadata": {},
   "outputs": [
    {
     "data": {
      "image/png": "[encoded data removed]",
      "text/plain": [
       "<Figure size 432x288 with 1 Axes>"
      ]
     },
     "metadata": {},
     "output_type": "display_data"
    }
   ],
   "source": [
    "crime_type_count = new_crime_df[\"Offenses Severity\"].value_counts()\n",
    "total_crime_count = new_crime_df[\"Offenses Severity\"].count()\n",
    "crime_percentage = (crime_type_count/total_crime_count) *100\n",
    "\n",
    "Offenses = [\"Misdemeanor\", \"Felony\", \"Murder of 1st Degree\"]\n",
    "Percent = [crime_percentage]\n",
    "colors = [\"Yellow\", \"Orange\", \"Red\"]\n",
    "explode = (0.1, 0.1, 0.1)\n",
    "\n",
    "\n",
    "plt.pie(crime_percentage, explode=explode, labels=Offenses, colors=colors, autopct=\"%1.1f%%\", shadow=True, startangle= 240)\n",
    "plt.axis(\"equal\")\n",
    "plt.title(\"Pittsburgh Crime Severitiy\")\n",
    "\n",
    "plt.show()"
   ]
  },
  {
   "cell_type": "code",
   "execution_count": 95,
   "metadata": {},
   "outputs": [
    {
     "data": {
      "text/plain": [
       "Text(0.5, 1.0, 'Pittsburgh Crime by Race')"
      ]
     },
     "execution_count": 95,
     "metadata": {},
     "output_type": "execute_result"
    },
    {
     "data": {
      "image/png": "[encoded data removed]",
      "text/plain": [
       "<Figure size 432x288 with 1 Axes>"
      ]
     },
     "metadata": {},
     "output_type": "display_data"
    }
   ],
   "source": [
    "race_count = new_crime_df[\"Race\"].value_counts()\n",
    "total_race_count = new_crime_df[\"Race\"].count()\n",
    "race_percentage = (race_count/total_race_count) *100\n",
    "\n",
    "Race = [\"Asian\", \"Black\", \"Hispanic/Latino\", \"American Indian or Alaskan Native\", \"Others\", \"Unknown\",\"White\"]\n",
    "Percent = [race_percentage]\n",
    "colors = [\"orange\", \"red\", \"purple\", \"pink\", \"yellowgreen\", \"lightskyblue\", \"lightcoral\"]\n",
    "explode = (0.1, 0.1, 0.1, 0.1, 0.1, 0.1, 0.1)\n",
    "\n",
    "plt.pie(race_percentage, explode=explode, labels=Race, colors=colors, autopct=\"%1.1f%%\", shadow=True, startangle= 240)\n",
    "plt.axis(\"equal\")\n",
    "plt.title(\"Pittsburgh Crime by Race\")\n"
   ]
  },
  {
   "cell_type": "code",
   "execution_count": 96,
   "metadata": {},
   "outputs": [],
   "source": [
    "#tick_locations = np.arange(len(new_crime_df))\n",
    "#colors = {\"A\":'blue', \"B\":'purple', \"H\": 'yellow', \"I\":'skyblue', \"O\": 'purple', \"U\":'red',\"W\": 'gold'}\n",
    "#plt.bar(tick_locations, new_crime_df['Race'], align=\"center\", color= list(new_crime_df['Offenses Severity'].map(colors)))\n",
    "#plt.xticks(tick_locations, new_crime_df['title'], rotation=45, ha=\"right\")\n",
    "#plt.show()"
   ]
  },
  {
   "cell_type": "code",
   "execution_count": 97,
   "metadata": {},
   "outputs": [],
   "source": [
    "#new_crime_df.groupby(['Race'],['Offenses Severity']).count().unstack().plot.bar()"
   ]
  },
  {
   "cell_type": "code",
   "execution_count": 98,
   "metadata": {},
   "outputs": [
    {
     "data": {
      "text/plain": [
       "Text(0.5, 0, 'Race Type')"
      ]
     },
     "execution_count": 98,
     "metadata": {},
     "output_type": "execute_result"
    },
    {
     "data": {
      "image/png": "[encoded data removed]",
      "text/plain": [
       "<Figure size 720x288 with 1 Axes>"
      ]
     },
     "metadata": {
      "needs_background": "light"
     },
     "output_type": "display_data"
    }
   ],
   "source": [
    "race_data = new_crime_df[\"Race\"].value_counts()\n",
    "race_data.plot.bar(align=\"center\", figsize=(10,4), color= \"orange\")\n",
    "plt.title(\"Pittsburgh Crime by Race\")\n",
    "plt.ylabel(\"Number of Crimes\")\n",
    "plt.xlabel(\"Race Type\")"
   ]
  },
  {
   "cell_type": "code",
   "execution_count": 99,
   "metadata": {},
   "outputs": [
    {
     "data": {
      "text/plain": [
       "<matplotlib.axes._subplots.AxesSubplot at 0x1fba6d32080>"
      ]
     },
     "execution_count": 99,
     "metadata": {},
     "output_type": "execute_result"
    },
    {
     "data": {
      "image/png": "[encoded data removed]",
      "text/plain": [
       "<Figure size 432x288 with 1 Axes>"
      ]
     },
     "metadata": {
      "needs_background": "light"
     },
     "output_type": "display_data"
    }
   ],
   "source": [
    "new_crime_df.groupby(['Gender','Race'])['Age'].mean().unstack().plot.bar()"
   ]
  },
  {
   "cell_type": "code",
   "execution_count": null,
   "metadata": {},
   "outputs": [],
   "source": []
  },
  {
   "cell_type": "code",
   "execution_count": null,
   "metadata": {},
   "outputs": [],
   "source": []
  },
  {
   "cell_type": "code",
   "execution_count": null,
   "metadata": {},
   "outputs": [],
   "source": []
  },
  {
   "cell_type": "code",
   "execution_count": 100,
   "metadata": {},
   "outputs": [
    {
     "data": {
      "text/html": [
       "<div>\n",
       "<style scoped>\n",
       "    .dataframe tbody tr th:only-of-type {\n",
       "        vertical-align: middle;\n",
       "    }\n",
       "\n",
       "    .dataframe tbody tr th {\n",
       "        vertical-align: top;\n",
       "    }\n",
       "\n",
       "    .dataframe thead th {\n",
       "        text-align: right;\n",
       "    }\n",
       "</style>\n",
       "<table border=\"1\" class=\"dataframe\">\n",
       "  <thead>\n",
       "    <tr style=\"text-align: right;\">\n",
       "      <th></th>\n",
       "      <th>Age</th>\n",
       "      <th>Race</th>\n",
       "      <th>Gender</th>\n",
       "      <th>Offenses Severity</th>\n",
       "      <th>Arrest Year</th>\n",
       "      <th>Arrest Month</th>\n",
       "      <th>Weather Condition</th>\n",
       "      <th>Temperature</th>\n",
       "    </tr>\n",
       "  </thead>\n",
       "  <tbody>\n",
       "    <tr>\n",
       "      <th>0</th>\n",
       "      <td>24.0</td>\n",
       "      <td>B</td>\n",
       "      <td>F</td>\n",
       "      <td>M</td>\n",
       "      <td>2016</td>\n",
       "      <td>February</td>\n",
       "      <td>Mostly Cloudy</td>\n",
       "      <td>20.53</td>\n",
       "    </tr>\n",
       "    <tr>\n",
       "      <th>1</th>\n",
       "      <td>31.0</td>\n",
       "      <td>W</td>\n",
       "      <td>M</td>\n",
       "      <td>M</td>\n",
       "      <td>2016</td>\n",
       "      <td>February</td>\n",
       "      <td>Overcast</td>\n",
       "      <td>32.76</td>\n",
       "    </tr>\n",
       "    <tr>\n",
       "      <th>2</th>\n",
       "      <td>22.0</td>\n",
       "      <td>W</td>\n",
       "      <td>M</td>\n",
       "      <td>F</td>\n",
       "      <td>2016</td>\n",
       "      <td>April</td>\n",
       "      <td>Light Rain</td>\n",
       "      <td>50.96</td>\n",
       "    </tr>\n",
       "    <tr>\n",
       "      <th>3</th>\n",
       "      <td>36.0</td>\n",
       "      <td>W</td>\n",
       "      <td>M</td>\n",
       "      <td>M</td>\n",
       "      <td>2016</td>\n",
       "      <td>April</td>\n",
       "      <td>Overcast</td>\n",
       "      <td>39.39</td>\n",
       "    </tr>\n",
       "    <tr>\n",
       "      <th>4</th>\n",
       "      <td>60.0</td>\n",
       "      <td>W</td>\n",
       "      <td>M</td>\n",
       "      <td>M</td>\n",
       "      <td>2016</td>\n",
       "      <td>April</td>\n",
       "      <td>Overcast</td>\n",
       "      <td>32.63</td>\n",
       "    </tr>\n",
       "  </tbody>\n",
       "</table>\n",
       "</div>"
      ],
      "text/plain": [
       "    Age Race Gender Offenses Severity  Arrest Year Arrest Month  \\\n",
       "0  24.0    B      F                 M         2016     February   \n",
       "1  31.0    W      M                 M         2016     February   \n",
       "2  22.0    W      M                 F         2016        April   \n",
       "3  36.0    W      M                 M         2016        April   \n",
       "4  60.0    W      M                 M         2016        April   \n",
       "\n",
       "  Weather Condition  Temperature  \n",
       "0     Mostly Cloudy        20.53  \n",
       "1          Overcast        32.76  \n",
       "2        Light Rain        50.96  \n",
       "3          Overcast        39.39  \n",
       "4          Overcast        32.63  "
      ]
     },
     "execution_count": 100,
     "metadata": {},
     "output_type": "execute_result"
    }
   ],
   "source": [
    "crime_df = new_crime_df.loc[:,[\"Age\",\"Race\", \"Gender\", \"Offenses Severity\", \"Arrest Year\", \n",
    "                               \"Arrest Month\", \"Weather Condition\",\"Temperature\"]]\n",
    "crime_df.head()"
   ]
  },
  {
   "cell_type": "code",
   "execution_count": 101,
   "metadata": {},
   "outputs": [],
   "source": [
    "#Establish bins for ages\n",
    "bins = [18,25,30,35,40,45,50,55,60,65,70,80,90,100]\n",
    "group_labels = [\"<18\",\"18-25\",\"25-30\",\"30-35\",\"35-40\",\"40-45\",\"45-50\",\"50-55\", \"55-60\",\"60-65\",\"65-70\", \"70-80\", \">80\"]"
   ]
  },
  {
   "cell_type": "code",
   "execution_count": 102,
   "metadata": {},
   "outputs": [
    {
     "data": {
      "text/plain": [
       "0      <18\n",
       "1    25-30\n",
       "2      <18\n",
       "3    30-35\n",
       "4    50-55\n",
       "5    45-50\n",
       "6      <18\n",
       "7    18-25\n",
       "8    18-25\n",
       "9    25-30\n",
       "Name: Age, dtype: category\n",
       "Categories (13, object): [<18 < 18-25 < 25-30 < 30-35 ... 60-65 < 65-70 < 70-80 < >80]"
      ]
     },
     "execution_count": 102,
     "metadata": {},
     "output_type": "execute_result"
    }
   ],
   "source": [
    "pd.cut(crime_df[\"Age\"], bins, labels = group_labels).head(10)"
   ]
  },
  {
   "cell_type": "code",
   "execution_count": 103,
   "metadata": {},
   "outputs": [
    {
     "data": {
      "text/html": [
       "<div>\n",
       "<style scoped>\n",
       "    .dataframe tbody tr th:only-of-type {\n",
       "        vertical-align: middle;\n",
       "    }\n",
       "\n",
       "    .dataframe tbody tr th {\n",
       "        vertical-align: top;\n",
       "    }\n",
       "\n",
       "    .dataframe thead th {\n",
       "        text-align: right;\n",
       "    }\n",
       "</style>\n",
       "<table border=\"1\" class=\"dataframe\">\n",
       "  <thead>\n",
       "    <tr style=\"text-align: right;\">\n",
       "      <th></th>\n",
       "      <th>Age</th>\n",
       "      <th>Race</th>\n",
       "      <th>Gender</th>\n",
       "      <th>Offenses Severity</th>\n",
       "      <th>Arrest Year</th>\n",
       "      <th>Arrest Month</th>\n",
       "      <th>Weather Condition</th>\n",
       "      <th>Temperature</th>\n",
       "      <th>Age_group</th>\n",
       "    </tr>\n",
       "  </thead>\n",
       "  <tbody>\n",
       "    <tr>\n",
       "      <th>0</th>\n",
       "      <td>24.0</td>\n",
       "      <td>B</td>\n",
       "      <td>F</td>\n",
       "      <td>M</td>\n",
       "      <td>2016</td>\n",
       "      <td>February</td>\n",
       "      <td>Mostly Cloudy</td>\n",
       "      <td>20.53</td>\n",
       "      <td>&lt;18</td>\n",
       "    </tr>\n",
       "    <tr>\n",
       "      <th>1</th>\n",
       "      <td>31.0</td>\n",
       "      <td>W</td>\n",
       "      <td>M</td>\n",
       "      <td>M</td>\n",
       "      <td>2016</td>\n",
       "      <td>February</td>\n",
       "      <td>Overcast</td>\n",
       "      <td>32.76</td>\n",
       "      <td>25-30</td>\n",
       "    </tr>\n",
       "    <tr>\n",
       "      <th>2</th>\n",
       "      <td>22.0</td>\n",
       "      <td>W</td>\n",
       "      <td>M</td>\n",
       "      <td>F</td>\n",
       "      <td>2016</td>\n",
       "      <td>April</td>\n",
       "      <td>Light Rain</td>\n",
       "      <td>50.96</td>\n",
       "      <td>&lt;18</td>\n",
       "    </tr>\n",
       "    <tr>\n",
       "      <th>3</th>\n",
       "      <td>36.0</td>\n",
       "      <td>W</td>\n",
       "      <td>M</td>\n",
       "      <td>M</td>\n",
       "      <td>2016</td>\n",
       "      <td>April</td>\n",
       "      <td>Overcast</td>\n",
       "      <td>39.39</td>\n",
       "      <td>30-35</td>\n",
       "    </tr>\n",
       "    <tr>\n",
       "      <th>4</th>\n",
       "      <td>60.0</td>\n",
       "      <td>W</td>\n",
       "      <td>M</td>\n",
       "      <td>M</td>\n",
       "      <td>2016</td>\n",
       "      <td>April</td>\n",
       "      <td>Overcast</td>\n",
       "      <td>32.63</td>\n",
       "      <td>50-55</td>\n",
       "    </tr>\n",
       "  </tbody>\n",
       "</table>\n",
       "</div>"
      ],
      "text/plain": [
       "    Age Race Gender Offenses Severity  Arrest Year Arrest Month  \\\n",
       "0  24.0    B      F                 M         2016     February   \n",
       "1  31.0    W      M                 M         2016     February   \n",
       "2  22.0    W      M                 F         2016        April   \n",
       "3  36.0    W      M                 M         2016        April   \n",
       "4  60.0    W      M                 M         2016        April   \n",
       "\n",
       "  Weather Condition  Temperature Age_group  \n",
       "0     Mostly Cloudy        20.53       <18  \n",
       "1          Overcast        32.76     25-30  \n",
       "2        Light Rain        50.96       <18  \n",
       "3          Overcast        39.39     30-35  \n",
       "4          Overcast        32.63     50-55  "
      ]
     },
     "execution_count": 103,
     "metadata": {},
     "output_type": "execute_result"
    }
   ],
   "source": [
    "crime_df[\"Age_group\"] = pd.cut(crime_df[\"Age\"], bins, labels = group_labels) \n",
    "crime_df.head()"
   ]
  },
  {
   "cell_type": "code",
   "execution_count": 26,
   "metadata": {},
   "outputs": [],
   "source": [
    "#Age_group_df=crime_df.groupby(\"Age_group\").count()\n",
    "#Age_group_df"
   ]
  },
  {
   "cell_type": "code",
   "execution_count": null,
   "metadata": {},
   "outputs": [],
   "source": []
  },
  {
   "cell_type": "code",
   "execution_count": null,
   "metadata": {},
   "outputs": [],
   "source": []
  },
  {
   "cell_type": "code",
   "execution_count": 40,
   "metadata": {},
   "outputs": [],
   "source": [
    "crime_type_count = crime_df[\"Offenses Severity\"].value_counts()\n",
    "avg_temp= crime_df.groupby([\"Temperature\"]).mean()\n",
    "#plt.scatter(crime_type_count, avg_temp, color = \"b\", alpha = .80, marker = \"o\", edgecolor = \"black\")\n",
    "#plt.title(\"City Temperature Vs Offenses Severity\") \n",
    "#plt.xlabel(\"Average Temperature (°F)\")\n",
    "#plt.ylabel(\"Crime Severity\")\n",
    "#plt.grid(True)"
   ]
  },
  {
   "cell_type": "code",
   "execution_count": null,
   "metadata": {},
   "outputs": [],
   "source": []
  },
  {
   "cell_type": "code",
   "execution_count": null,
   "metadata": {},
   "outputs": [],
   "source": []
  },
  {
   "cell_type": "code",
   "execution_count": null,
   "metadata": {},
   "outputs": [],
   "source": []
  },
  {
   "cell_type": "code",
   "execution_count": null,
   "metadata": {},
   "outputs": [],
   "source": []
  },
  {
   "cell_type": "code",
   "execution_count": 28,
   "metadata": {},
   "outputs": [],
   "source": [
    "#PH# Crime Frequency vs Time of Year (seasonality)\n",
    "#crime_plot = full_crime_df.groupby([\"Arrest Year\",\"Arrest Month\"]).count().stack().plot.bar()\n",
    "#crime_plot.set_xlabel('Arrest Year')\n",
    "#crime_plot.set_ylabel('OFFENSES')\n",
    "#crime_plot.set_title('crime vs time of year')"
   ]
  },
  {
   "cell_type": "code",
   "execution_count": 104,
   "metadata": {},
   "outputs": [
    {
     "data": {
      "text/html": [
       "<div>\n",
       "<style scoped>\n",
       "    .dataframe tbody tr th:only-of-type {\n",
       "        vertical-align: middle;\n",
       "    }\n",
       "\n",
       "    .dataframe tbody tr th {\n",
       "        vertical-align: top;\n",
       "    }\n",
       "\n",
       "    .dataframe thead th {\n",
       "        text-align: right;\n",
       "    }\n",
       "</style>\n",
       "<table border=\"1\" class=\"dataframe\">\n",
       "  <thead>\n",
       "    <tr style=\"text-align: right;\">\n",
       "      <th></th>\n",
       "      <th>Offenses Severity</th>\n",
       "      <th>Arrest Year</th>\n",
       "      <th>Arrest Month</th>\n",
       "    </tr>\n",
       "  </thead>\n",
       "  <tbody>\n",
       "    <tr>\n",
       "      <th>0</th>\n",
       "      <td>M</td>\n",
       "      <td>2016</td>\n",
       "      <td>February</td>\n",
       "    </tr>\n",
       "    <tr>\n",
       "      <th>1</th>\n",
       "      <td>M</td>\n",
       "      <td>2016</td>\n",
       "      <td>February</td>\n",
       "    </tr>\n",
       "    <tr>\n",
       "      <th>2</th>\n",
       "      <td>F</td>\n",
       "      <td>2016</td>\n",
       "      <td>April</td>\n",
       "    </tr>\n",
       "    <tr>\n",
       "      <th>3</th>\n",
       "      <td>M</td>\n",
       "      <td>2016</td>\n",
       "      <td>April</td>\n",
       "    </tr>\n",
       "    <tr>\n",
       "      <th>4</th>\n",
       "      <td>M</td>\n",
       "      <td>2016</td>\n",
       "      <td>April</td>\n",
       "    </tr>\n",
       "  </tbody>\n",
       "</table>\n",
       "</div>"
      ],
      "text/plain": [
       "  Offenses Severity  Arrest Year Arrest Month\n",
       "0                 M         2016     February\n",
       "1                 M         2016     February\n",
       "2                 F         2016        April\n",
       "3                 M         2016        April\n",
       "4                 M         2016        April"
      ]
     },
     "execution_count": 104,
     "metadata": {},
     "output_type": "execute_result"
    }
   ],
   "source": [
    "crime_df1 = new_crime_df.loc[:,[\"Offenses Severity\", \"Arrest Year\", \"Arrest Month\"]]\n",
    "crime_df1.head()"
   ]
  },
  {
   "cell_type": "code",
   "execution_count": null,
   "metadata": {},
   "outputs": [],
   "source": []
  },
  {
   "cell_type": "code",
   "execution_count": 129,
   "metadata": {},
   "outputs": [
    {
     "data": {
      "text/html": [
       "<div>\n",
       "<style scoped>\n",
       "    .dataframe tbody tr th:only-of-type {\n",
       "        vertical-align: middle;\n",
       "    }\n",
       "\n",
       "    .dataframe tbody tr th {\n",
       "        vertical-align: top;\n",
       "    }\n",
       "\n",
       "    .dataframe thead th {\n",
       "        text-align: right;\n",
       "    }\n",
       "</style>\n",
       "<table border=\"1\" class=\"dataframe\">\n",
       "  <thead>\n",
       "    <tr style=\"text-align: right;\">\n",
       "      <th>Arrest Month</th>\n",
       "      <th>April</th>\n",
       "      <th>August</th>\n",
       "      <th>December</th>\n",
       "      <th>February</th>\n",
       "      <th>January</th>\n",
       "      <th>July</th>\n",
       "      <th>June</th>\n",
       "      <th>March</th>\n",
       "      <th>May</th>\n",
       "      <th>November</th>\n",
       "      <th>October</th>\n",
       "      <th>September</th>\n",
       "    </tr>\n",
       "    <tr>\n",
       "      <th>Offenses Severity</th>\n",
       "      <th></th>\n",
       "      <th></th>\n",
       "      <th></th>\n",
       "      <th></th>\n",
       "      <th></th>\n",
       "      <th></th>\n",
       "      <th></th>\n",
       "      <th></th>\n",
       "      <th></th>\n",
       "      <th></th>\n",
       "      <th></th>\n",
       "      <th></th>\n",
       "    </tr>\n",
       "  </thead>\n",
       "  <tbody>\n",
       "    <tr>\n",
       "      <th>F</th>\n",
       "      <td>327.0</td>\n",
       "      <td>535.0</td>\n",
       "      <td>480.0</td>\n",
       "      <td>359.0</td>\n",
       "      <td>433.0</td>\n",
       "      <td>401.0</td>\n",
       "      <td>344.0</td>\n",
       "      <td>416.0</td>\n",
       "      <td>418.0</td>\n",
       "      <td>475.0</td>\n",
       "      <td>595.0</td>\n",
       "      <td>593.0</td>\n",
       "    </tr>\n",
       "    <tr>\n",
       "      <th>M</th>\n",
       "      <td>964.0</td>\n",
       "      <td>1272.0</td>\n",
       "      <td>1194.0</td>\n",
       "      <td>847.0</td>\n",
       "      <td>863.0</td>\n",
       "      <td>995.0</td>\n",
       "      <td>1010.0</td>\n",
       "      <td>899.0</td>\n",
       "      <td>1085.0</td>\n",
       "      <td>1279.0</td>\n",
       "      <td>1339.0</td>\n",
       "      <td>1352.0</td>\n",
       "    </tr>\n",
       "    <tr>\n",
       "      <th>Murder of 1st Degree</th>\n",
       "      <td>0.0</td>\n",
       "      <td>2.0</td>\n",
       "      <td>0.0</td>\n",
       "      <td>0.0</td>\n",
       "      <td>0.0</td>\n",
       "      <td>0.0</td>\n",
       "      <td>0.0</td>\n",
       "      <td>0.0</td>\n",
       "      <td>0.0</td>\n",
       "      <td>0.0</td>\n",
       "      <td>0.0</td>\n",
       "      <td>0.0</td>\n",
       "    </tr>\n",
       "  </tbody>\n",
       "</table>\n",
       "</div>"
      ],
      "text/plain": [
       "Arrest Month          April  August  December  February  January   July  \\\n",
       "Offenses Severity                                                         \n",
       "F                     327.0   535.0     480.0     359.0    433.0  401.0   \n",
       "M                     964.0  1272.0    1194.0     847.0    863.0  995.0   \n",
       "Murder of 1st Degree    0.0     2.0       0.0       0.0      0.0    0.0   \n",
       "\n",
       "Arrest Month            June  March     May  November  October  September  \n",
       "Offenses Severity                                                          \n",
       "F                      344.0  416.0   418.0     475.0    595.0      593.0  \n",
       "M                     1010.0  899.0  1085.0    1279.0   1339.0     1352.0  \n",
       "Murder of 1st Degree     0.0    0.0     0.0       0.0      0.0        0.0  "
      ]
     },
     "execution_count": 129,
     "metadata": {},
     "output_type": "execute_result"
    }
   ],
   "source": [
    "df2=crime_df1.groupby(['Offenses Severity', 'Arrest Month'])['Offenses Severity'].count().unstack('Arrest Month').fillna(0)\n",
    "df2\n",
    "#df2[['off','mth']].plot(kind='bar', stacked=True)\n",
    "#df2[[\"offenses\",\"Month\"]].plot(kind='bar', stacked=True)\n"
   ]
  },
  {
   "cell_type": "code",
   "execution_count": 126,
   "metadata": {},
   "outputs": [
    {
     "data": {
      "text/html": [
       "<div>\n",
       "<style scoped>\n",
       "    .dataframe tbody tr th:only-of-type {\n",
       "        vertical-align: middle;\n",
       "    }\n",
       "\n",
       "    .dataframe tbody tr th {\n",
       "        vertical-align: top;\n",
       "    }\n",
       "\n",
       "    .dataframe thead th {\n",
       "        text-align: right;\n",
       "    }\n",
       "</style>\n",
       "<table border=\"1\" class=\"dataframe\">\n",
       "  <thead>\n",
       "    <tr style=\"text-align: right;\">\n",
       "      <th>Arrest Month</th>\n",
       "      <th>April</th>\n",
       "      <th>August</th>\n",
       "      <th>December</th>\n",
       "      <th>February</th>\n",
       "      <th>January</th>\n",
       "      <th>July</th>\n",
       "      <th>June</th>\n",
       "      <th>March</th>\n",
       "      <th>May</th>\n",
       "      <th>November</th>\n",
       "      <th>October</th>\n",
       "      <th>September</th>\n",
       "    </tr>\n",
       "    <tr>\n",
       "      <th>Offenses Severity</th>\n",
       "      <th></th>\n",
       "      <th></th>\n",
       "      <th></th>\n",
       "      <th></th>\n",
       "      <th></th>\n",
       "      <th></th>\n",
       "      <th></th>\n",
       "      <th></th>\n",
       "      <th></th>\n",
       "      <th></th>\n",
       "      <th></th>\n",
       "      <th></th>\n",
       "    </tr>\n",
       "  </thead>\n",
       "  <tbody>\n",
       "    <tr>\n",
       "      <th>F</th>\n",
       "      <td>327.0</td>\n",
       "      <td>535.0</td>\n",
       "      <td>480.0</td>\n",
       "      <td>359.0</td>\n",
       "      <td>433.0</td>\n",
       "      <td>401.0</td>\n",
       "      <td>344.0</td>\n",
       "      <td>416.0</td>\n",
       "      <td>418.0</td>\n",
       "      <td>475.0</td>\n",
       "      <td>595.0</td>\n",
       "      <td>593.0</td>\n",
       "    </tr>\n",
       "    <tr>\n",
       "      <th>M</th>\n",
       "      <td>964.0</td>\n",
       "      <td>1272.0</td>\n",
       "      <td>1194.0</td>\n",
       "      <td>847.0</td>\n",
       "      <td>863.0</td>\n",
       "      <td>995.0</td>\n",
       "      <td>1010.0</td>\n",
       "      <td>899.0</td>\n",
       "      <td>1085.0</td>\n",
       "      <td>1279.0</td>\n",
       "      <td>1339.0</td>\n",
       "      <td>1352.0</td>\n",
       "    </tr>\n",
       "    <tr>\n",
       "      <th>Murder of 1st Degree</th>\n",
       "      <td>0.0</td>\n",
       "      <td>2.0</td>\n",
       "      <td>0.0</td>\n",
       "      <td>0.0</td>\n",
       "      <td>0.0</td>\n",
       "      <td>0.0</td>\n",
       "      <td>0.0</td>\n",
       "      <td>0.0</td>\n",
       "      <td>0.0</td>\n",
       "      <td>0.0</td>\n",
       "      <td>0.0</td>\n",
       "      <td>0.0</td>\n",
       "    </tr>\n",
       "  </tbody>\n",
       "</table>\n",
       "</div>"
      ],
      "text/plain": [
       "Arrest Month          April  August  December  February  January   July  \\\n",
       "Offenses Severity                                                         \n",
       "F                     327.0   535.0     480.0     359.0    433.0  401.0   \n",
       "M                     964.0  1272.0    1194.0     847.0    863.0  995.0   \n",
       "Murder of 1st Degree    0.0     2.0       0.0       0.0      0.0    0.0   \n",
       "\n",
       "Arrest Month            June  March     May  November  October  September  \n",
       "Offenses Severity                                                          \n",
       "F                      344.0  416.0   418.0     475.0    595.0      593.0  \n",
       "M                     1010.0  899.0  1085.0    1279.0   1339.0     1352.0  \n",
       "Murder of 1st Degree     0.0    0.0     0.0       0.0      0.0        0.0  "
      ]
     },
     "execution_count": 126,
     "metadata": {},
     "output_type": "execute_result"
    }
   ],
   "source": [
    "df2 = crime_df.groupby(['Offenses Severity', 'Arrest Month'])['Offenses Severity'].count().unstack('Arrest Month').fillna(0)\n",
    "df2"
   ]
  },
  {
   "cell_type": "code",
   "execution_count": null,
   "metadata": {},
   "outputs": [],
   "source": []
  },
  {
   "cell_type": "code",
   "execution_count": null,
   "metadata": {},
   "outputs": [],
   "source": []
  },
  {
   "cell_type": "code",
   "execution_count": null,
   "metadata": {},
   "outputs": [],
   "source": []
  },
  {
   "cell_type": "code",
   "execution_count": null,
   "metadata": {},
   "outputs": [],
   "source": []
  },
  {
   "cell_type": "code",
   "execution_count": 124,
   "metadata": {},
   "outputs": [
    {
     "data": {
      "text/html": [
       "<div>\n",
       "<style scoped>\n",
       "    .dataframe tbody tr th:only-of-type {\n",
       "        vertical-align: middle;\n",
       "    }\n",
       "\n",
       "    .dataframe tbody tr th {\n",
       "        vertical-align: top;\n",
       "    }\n",
       "\n",
       "    .dataframe thead th {\n",
       "        text-align: right;\n",
       "    }\n",
       "</style>\n",
       "<table border=\"1\" class=\"dataframe\">\n",
       "  <thead>\n",
       "    <tr style=\"text-align: right;\">\n",
       "      <th>Arrest Year</th>\n",
       "      <th>2016</th>\n",
       "      <th>2017</th>\n",
       "      <th>2018</th>\n",
       "    </tr>\n",
       "    <tr>\n",
       "      <th>Offenses Severity</th>\n",
       "      <th></th>\n",
       "      <th></th>\n",
       "      <th></th>\n",
       "    </tr>\n",
       "  </thead>\n",
       "  <tbody>\n",
       "    <tr>\n",
       "      <th>F</th>\n",
       "      <td>882.0</td>\n",
       "      <td>2462.0</td>\n",
       "      <td>2032.0</td>\n",
       "    </tr>\n",
       "    <tr>\n",
       "      <th>M</th>\n",
       "      <td>1949.0</td>\n",
       "      <td>5812.0</td>\n",
       "      <td>5338.0</td>\n",
       "    </tr>\n",
       "    <tr>\n",
       "      <th>Murder of 1st Degree</th>\n",
       "      <td>0.0</td>\n",
       "      <td>0.0</td>\n",
       "      <td>2.0</td>\n",
       "    </tr>\n",
       "  </tbody>\n",
       "</table>\n",
       "</div>"
      ],
      "text/plain": [
       "Arrest Year             2016    2017    2018\n",
       "Offenses Severity                           \n",
       "F                      882.0  2462.0  2032.0\n",
       "M                     1949.0  5812.0  5338.0\n",
       "Murder of 1st Degree     0.0     0.0     2.0"
      ]
     },
     "execution_count": 124,
     "metadata": {},
     "output_type": "execute_result"
    }
   ],
   "source": [
    "df2 = crime_df.groupby(['Offenses Severity', 'Arrest Year'])['Offenses Severity'].count().unstack('Arrest Year').fillna(0)\n",
    "df2"
   ]
  },
  {
   "cell_type": "code",
   "execution_count": null,
   "metadata": {},
   "outputs": [],
   "source": []
  },
  {
   "cell_type": "code",
   "execution_count": null,
   "metadata": {},
   "outputs": [],
   "source": []
  },
  {
   "cell_type": "code",
   "execution_count": null,
   "metadata": {},
   "outputs": [],
   "source": []
  },
  {
   "cell_type": "code",
   "execution_count": null,
   "metadata": {},
   "outputs": [],
   "source": []
  },
  {
   "cell_type": "code",
   "execution_count": 150,
   "metadata": {},
   "outputs": [
    {
     "data": {
      "text/html": [
       "<div>\n",
       "<style scoped>\n",
       "    .dataframe tbody tr th:only-of-type {\n",
       "        vertical-align: middle;\n",
       "    }\n",
       "\n",
       "    .dataframe tbody tr th {\n",
       "        vertical-align: top;\n",
       "    }\n",
       "\n",
       "    .dataframe thead th {\n",
       "        text-align: right;\n",
       "    }\n",
       "</style>\n",
       "<table border=\"1\" class=\"dataframe\">\n",
       "  <thead>\n",
       "    <tr style=\"text-align: right;\">\n",
       "      <th></th>\n",
       "      <th></th>\n",
       "      <th>Offenses Severity</th>\n",
       "    </tr>\n",
       "    <tr>\n",
       "      <th>Arrest Year</th>\n",
       "      <th>Arrest Month</th>\n",
       "      <th></th>\n",
       "    </tr>\n",
       "  </thead>\n",
       "  <tbody>\n",
       "    <tr>\n",
       "      <th rowspan=\"5\" valign=\"top\">2016</th>\n",
       "      <th>April</th>\n",
       "      <td>10</td>\n",
       "    </tr>\n",
       "    <tr>\n",
       "      <th>August</th>\n",
       "      <td>461</td>\n",
       "    </tr>\n",
       "    <tr>\n",
       "      <th>December</th>\n",
       "      <td>574</td>\n",
       "    </tr>\n",
       "    <tr>\n",
       "      <th>February</th>\n",
       "      <td>2</td>\n",
       "    </tr>\n",
       "    <tr>\n",
       "      <th>July</th>\n",
       "      <td>10</td>\n",
       "    </tr>\n",
       "  </tbody>\n",
       "</table>\n",
       "</div>"
      ],
      "text/plain": [
       "                          Offenses Severity\n",
       "Arrest Year Arrest Month                   \n",
       "2016        April                        10\n",
       "            August                      461\n",
       "            December                    574\n",
       "            February                      2\n",
       "            July                         10"
      ]
     },
     "execution_count": 150,
     "metadata": {},
     "output_type": "execute_result"
    }
   ],
   "source": [
    "Yr_group = crime_df.groupby([\"Arrest Year\",\"Arrest Month\"]).count()\n",
    "\n",
    "del Yr_group['Age']\n",
    "del Yr_group['Race']\n",
    "del Yr_group['Gender']\n",
    "del Yr_group['Weather Condition']\n",
    "del Yr_group['Temperature']\n",
    "del Yr_group['Age_group']\n",
    "Yr_group.head()"
   ]
  },
  {
   "cell_type": "code",
   "execution_count": 153,
   "metadata": {},
   "outputs": [
    {
     "data": {
      "image/png": "[encoded data removed]",
      "text/plain": [
       "<Figure size 432x288 with 1 Axes>"
      ]
     },
     "metadata": {
      "needs_background": "light"
     },
     "output_type": "display_data"
    },
    {
     "data": {
      "text/plain": [
       "<Figure size 432x288 with 0 Axes>"
      ]
     },
     "metadata": {},
     "output_type": "display_data"
    }
   ],
   "source": [
    "month_chart = Yr_group.plot(kind=\"bar\", title=\"crime\")\n",
    "month_chart.set_xlabel(\"months\")\n",
    "month_chart.set_ylabel(\"crimes\")\n",
    "\n",
    "plt.show()\n",
    "plt.tight_layout()"
   ]
  },
  {
   "cell_type": "code",
   "execution_count": 34,
   "metadata": {},
   "outputs": [
    {
     "data": {
      "text/html": [
       "<div>\n",
       "<style scoped>\n",
       "    .dataframe tbody tr th:only-of-type {\n",
       "        vertical-align: middle;\n",
       "    }\n",
       "\n",
       "    .dataframe tbody tr th {\n",
       "        vertical-align: top;\n",
       "    }\n",
       "\n",
       "    .dataframe thead th {\n",
       "        text-align: right;\n",
       "    }\n",
       "</style>\n",
       "<table border=\"1\" class=\"dataframe\">\n",
       "  <thead>\n",
       "    <tr style=\"text-align: right;\">\n",
       "      <th></th>\n",
       "      <th></th>\n",
       "      <th>Age</th>\n",
       "      <th>Race</th>\n",
       "      <th>Gender</th>\n",
       "      <th>Offenses Severity</th>\n",
       "      <th>Weather Condition</th>\n",
       "      <th>Temperature</th>\n",
       "      <th>Age_group</th>\n",
       "    </tr>\n",
       "    <tr>\n",
       "      <th>Arrest Year</th>\n",
       "      <th>Arrest Month</th>\n",
       "      <th></th>\n",
       "      <th></th>\n",
       "      <th></th>\n",
       "      <th></th>\n",
       "      <th></th>\n",
       "      <th></th>\n",
       "      <th></th>\n",
       "    </tr>\n",
       "  </thead>\n",
       "  <tbody>\n",
       "    <tr>\n",
       "      <th rowspan=\"5\" valign=\"top\">2016</th>\n",
       "      <th>April</th>\n",
       "      <td>10</td>\n",
       "      <td>10</td>\n",
       "      <td>10</td>\n",
       "      <td>10</td>\n",
       "      <td>10</td>\n",
       "      <td>10</td>\n",
       "      <td>10</td>\n",
       "    </tr>\n",
       "    <tr>\n",
       "      <th>August</th>\n",
       "      <td>461</td>\n",
       "      <td>461</td>\n",
       "      <td>461</td>\n",
       "      <td>461</td>\n",
       "      <td>461</td>\n",
       "      <td>461</td>\n",
       "      <td>435</td>\n",
       "    </tr>\n",
       "    <tr>\n",
       "      <th>December</th>\n",
       "      <td>574</td>\n",
       "      <td>574</td>\n",
       "      <td>574</td>\n",
       "      <td>574</td>\n",
       "      <td>574</td>\n",
       "      <td>574</td>\n",
       "      <td>492</td>\n",
       "    </tr>\n",
       "    <tr>\n",
       "      <th>February</th>\n",
       "      <td>2</td>\n",
       "      <td>2</td>\n",
       "      <td>2</td>\n",
       "      <td>2</td>\n",
       "      <td>2</td>\n",
       "      <td>2</td>\n",
       "      <td>2</td>\n",
       "    </tr>\n",
       "    <tr>\n",
       "      <th>July</th>\n",
       "      <td>10</td>\n",
       "      <td>10</td>\n",
       "      <td>10</td>\n",
       "      <td>10</td>\n",
       "      <td>10</td>\n",
       "      <td>10</td>\n",
       "      <td>10</td>\n",
       "    </tr>\n",
       "  </tbody>\n",
       "</table>\n",
       "</div>"
      ],
      "text/plain": [
       "                          Age  Race  Gender  Offenses Severity  \\\n",
       "Arrest Year Arrest Month                                         \n",
       "2016        April          10    10      10                 10   \n",
       "            August        461   461     461                461   \n",
       "            December      574   574     574                574   \n",
       "            February        2     2       2                  2   \n",
       "            July           10    10      10                 10   \n",
       "\n",
       "                          Weather Condition  Temperature  Age_group  \n",
       "Arrest Year Arrest Month                                             \n",
       "2016        April                        10           10         10  \n",
       "            August                      461          461        435  \n",
       "            December                    574          574        492  \n",
       "            February                      2            2          2  \n",
       "            July                         10           10         10  "
      ]
     },
     "execution_count": 34,
     "metadata": {},
     "output_type": "execute_result"
    }
   ],
   "source": [
    "Arrest_Yr_group = crime_df.groupby([\"Arrest Year\",\"Arrest Month\"]).count()\n",
    "Arrest_Yr_group.head()"
   ]
  },
  {
   "cell_type": "code",
   "execution_count": null,
   "metadata": {},
   "outputs": [],
   "source": []
  },
  {
   "cell_type": "code",
   "execution_count": null,
   "metadata": {},
   "outputs": [],
   "source": [
    "#PH# Crime Frequency vs Time of Year (seasonality)\n",
    "\n",
    "# Split data into groups based upon day of week\n",
    "#month_groups = organized_df.groupby('Arrest Month').sum()\n",
    "\n",
    "#sorter2 = ['January', 'Febraury', 'March', 'April', 'May', 'June', \n",
    "#          'July', 'August', 'September', 'October', 'November', 'December']\n",
    "#sorterIndex = dict(zip(sorter2,range(len(sorter2))))\n",
    "\n",
    "#month_groups['Month_id'] = month_groups.index\n",
    "#month_groups['Month_id'] = month_groups['Month_id'].map(sorterIndex)\n",
    "#month_groups.sort_values('Month_id', inplace=True)\n",
    "\n",
    "#fig, ax = plt.subplots(facecolor='white')\n",
    " \n",
    "#ax.bar(month_groups.Month_id, month_groups.Criminal)\n",
    "#ax.set_xticks(month_groups.Month_id)\n",
    "#ax.set_xticklabels(month_groups.index)\n",
    "\n",
    "# Edit\n",
    "    # Change Colors\n",
    "    # Make Labels Diagonal\n",
    "    # Change Y-Axis meaurements"
   ]
  },
  {
   "cell_type": "code",
   "execution_count": null,
   "metadata": {},
   "outputs": [],
   "source": []
  },
  {
   "cell_type": "code",
   "execution_count": null,
   "metadata": {},
   "outputs": [],
   "source": []
  },
  {
   "cell_type": "code",
   "execution_count": null,
   "metadata": {},
   "outputs": [],
   "source": []
  },
  {
   "cell_type": "code",
   "execution_count": null,
   "metadata": {},
   "outputs": [],
   "source": []
  },
  {
   "cell_type": "code",
   "execution_count": null,
   "metadata": {},
   "outputs": [],
   "source": []
  },
  {
   "cell_type": "code",
   "execution_count": null,
   "metadata": {},
   "outputs": [],
   "source": []
  },
  {
   "cell_type": "code",
   "execution_count": null,
   "metadata": {},
   "outputs": [],
   "source": []
  },
  {
   "cell_type": "code",
   "execution_count": null,
   "metadata": {},
   "outputs": [],
   "source": []
  },
  {
   "cell_type": "code",
   "execution_count": null,
   "metadata": {},
   "outputs": [],
   "source": [
    "#Time_df = full_crime_df.loc[:,[\"Arrest Year\",\"Arrest Month\"]]\n",
    "#Arrest_Year_group = Time_df.groupby([\"Arrest Year\",\"Arrest Month\"]).count()\n"
   ]
  },
  {
   "cell_type": "code",
   "execution_count": null,
   "metadata": {},
   "outputs": [],
   "source": []
  },
  {
   "cell_type": "code",
   "execution_count": null,
   "metadata": {},
   "outputs": [],
   "source": []
  },
  {
   "cell_type": "code",
   "execution_count": null,
   "metadata": {},
   "outputs": [],
   "source": []
  },
  {
   "cell_type": "code",
   "execution_count": null,
   "metadata": {},
   "outputs": [],
   "source": [
    "# Crime Severity vs Time of Year (seasonality)\n",
    "#Arrest month vs len(grouped(Incident Severity))\n",
    "# X-Axis: Months\n",
    "# Y-Axis: Severity of Crime (measured by incident number)\n"
   ]
  },
  {
   "cell_type": "code",
   "execution_count": null,
   "metadata": {},
   "outputs": [],
   "source": [
    "#PH# Crime Frequency vs Day of Week\n",
    "\n",
    "# Split data into groups based upon day of week\n",
    "#day_groups = organized_df.groupby('Arrest Day of Week').sum()\n",
    "\n",
    "#sorter = ['Sunday', 'Monday', 'Tuesday', 'Wednesday', 'Thursday', 'Friday', 'Saturday']\n",
    "#sorterIndex = dict(zip(sorter,range(len(sorter))))\n",
    "\n",
    "#day_groups['Day_id'] = day_groups.index\n",
    "#day_groups['Day_id'] = day_groups['Day_id'].map(sorterIndex)\n",
    "#day_groups.sort_values('Day_id', inplace=True)\n",
    "\n",
    "#fig, ax = plt.subplots(facecolor='white')\n",
    " \n",
    "#ax.bar(day_groups.Day_id, day_groups.Criminal)\n",
    "#ax.set_xticks(day_groups.Day_id)\n",
    "#ax.set_xticklabels(day_groups.index)\n"
   ]
  },
  {
   "cell_type": "code",
   "execution_count": null,
   "metadata": {},
   "outputs": [],
   "source": [
    "# Crime Severity vs Day of Week\n",
    "#Arrest Day of Week vs len(grouped(Incident Severity))\n",
    "# X-Axis: Day (Monday, Tuesday, Wednesday, etc.)\n",
    "# Y-Axis: Severity of Crime (measured by incident type)\n"
   ]
  },
  {
   "cell_type": "code",
   "execution_count": null,
   "metadata": {},
   "outputs": [],
   "source": [
    "#PH# Crime Frequency vs Time of Day \n",
    "\n",
    "# Split data into groups based upon day of week\n",
    "#time_of_day_groups = organized_df.groupby('Arrest Time of Day')\n",
    "# Find out how many arrests occured during each month group\n",
    "#incidents_time_of_day = time_of_day_groups['Criminal'].count()\n",
    "# Chart our data, give it a title, and label the axes\n",
    "#incidents_time_of_day_chart = incidents_time_of_day.plot(kind=\"bar\", title=\"Crime Frequency vs. Time of Day\")\n",
    "#incidents_time_of_day_chart.set_xlabel(\"Time of Day\")\n",
    "#incidents_time_of_day_chart.set_ylabel(\"Amount of Crime (Per Incident)\")\n",
    "#plt.xticks(rotation = 45)\n",
    "\n",
    "\n",
    "#plt.tight_layout()\n",
    "\n",
    "# Edit\n",
    "# Change Colors\n",
    "# Make Labels Diagonal\n",
    "# Change Y-Axis meaurements"
   ]
  },
  {
   "cell_type": "code",
   "execution_count": null,
   "metadata": {},
   "outputs": [],
   "source": [
    "# Crime Severity vs Time of Day \n",
    "# X-Axis: Time of Day (early morning, morning, early afternoon, noon, etc.)\n",
    "# Y-Axis: Severity of Crime (measured by incident type)\n"
   ]
  },
  {
   "cell_type": "code",
   "execution_count": null,
   "metadata": {},
   "outputs": [],
   "source": []
  },
  {
   "cell_type": "code",
   "execution_count": null,
   "metadata": {},
   "outputs": [],
   "source": []
  },
  {
   "cell_type": "code",
   "execution_count": null,
   "metadata": {},
   "outputs": [],
   "source": []
  }
 ],
 "metadata": {
  "kernelspec": {
   "display_name": "Python 3",
   "language": "python",
   "name": "python3"
  },
  "language_info": {
   "codemirror_mode": {
    "name": "ipython",
    "version": 3
   },
   "file_extension": ".py",
   "mimetype": "text/x-python",
   "name": "python",
   "nbconvert_exporter": "python",
   "pygments_lexer": "ipython3",
   "version": "3.7.1"
  }
 },
 "nbformat": 4,
 "nbformat_minor": 2
}
